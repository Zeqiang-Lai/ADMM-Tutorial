{
 "cells": [
  {
   "cell_type": "markdown",
   "metadata": {},
   "source": [
    "# Convolution As Matrix-Vector Muliplication\n",
    "\n",
    "There are two types of common convolution\n",
    "\n",
    "1. Linear convolution\n",
    "2. Circular convolution\n",
    "\n",
    "Both of them can be expressed as matrix-vector muliplication, but only the latter one could be expressed as muliplication in frequency domain directly. (Linear convolution is ok, but we need an extra transformation)"
   ]
  },
  {
   "cell_type": "code",
   "execution_count": 1,
   "metadata": {},
   "outputs": [],
   "source": [
    "import numpy as np"
   ]
  },
  {
   "cell_type": "markdown",
   "metadata": {},
   "source": [
    "Suppose `f` is the input signal, `h` is the convolution filter."
   ]
  },
  {
   "cell_type": "code",
   "execution_count": 7,
   "metadata": {},
   "outputs": [
    {
     "name": "stdout",
     "output_type": "stream",
     "text": [
      "[[2 5 3]\n",
      " [1 4 1]]\n",
      "[[ 1 -1]]\n"
     ]
    }
   ],
   "source": [
    "f = np.array([[2,5,3],[1,4,1]])\n",
    "h = np.array([[1,-1]])\n",
    "print(f)\n",
    "print(h)"
   ]
  },
  {
   "cell_type": "markdown",
   "metadata": {},
   "source": [
    "`convolve2d` performs linear convolution, and `conv2` is the corresponding Matlab version. \n",
    "\n",
    "Recall that in convolution, we need to **filpped filter first**, then perform a weighted average on the input signal. The linear convolution pads input with zero, while the circular convolution uses reflection padding (we will see later)."
   ]
  },
  {
   "cell_type": "code",
   "execution_count": 10,
   "metadata": {},
   "outputs": [
    {
     "data": {
      "text/plain": [
       "array([[ 2,  3, -2, -3],\n",
       "       [ 1,  3, -3, -1]])"
      ]
     },
     "execution_count": 10,
     "metadata": {},
     "output_type": "execute_result"
    }
   ],
   "source": [
    "from scipy.signal import convolve2d\n",
    "convolve2d(f,h)"
   ]
  },
  {
   "cell_type": "markdown",
   "metadata": {},
   "source": [
    "There is no specific predefined circular convolution function in numpy and Matlab. We could do it mannully "
   ]
  },
  {
   "cell_type": "code",
   "execution_count": 11,
   "metadata": {},
   "outputs": [],
   "source": [
    "from numpy.fft import ifft2, fft2"
   ]
  },
  {
   "cell_type": "code",
   "execution_count": 18,
   "metadata": {},
   "outputs": [
    {
     "name": "stdout",
     "output_type": "stream",
     "text": [
      "[[-1.  3. -2.]\n",
      " [-0.  3. -3.]]\n"
     ]
    }
   ],
   "source": [
    "g_fft = ifft2(fft2(f)*fft2(h,(2,3))).real.round(3);\n",
    "print(g_fft)"
   ]
  },
  {
   "cell_type": "code",
   "execution_count": 21,
   "metadata": {},
   "outputs": [
    {
     "name": "stdout",
     "output_type": "stream",
     "text": [
      "[[ 1  0 -1  0  0  0]\n",
      " [-1  1  0  0  0  0]\n",
      " [ 0 -1  1  0  0  0]\n",
      " [ 0  0  0  1  0 -1]\n",
      " [ 0  0  0 -1  1  0]\n",
      " [ 0  0  0  0 -1  1]]\n"
     ]
    }
   ],
   "source": [
    "H1 = np.array([[1, 0, -1],\n",
    "               [-1, 1, 0],\n",
    "               [0, -1, 1]]);\n",
    "H2 = np.array([[0, 0, 0],\n",
    "               [0, 0, 0],\n",
    "               [0, 0, 0]]);\n",
    "# H = [H1 H2;\n",
    "#      H2 H1;];\n",
    "H = np.column_stack([np.row_stack([H1,H2]), np.row_stack([H2, H1])])\n",
    "print(H)"
   ]
  },
  {
   "cell_type": "code",
   "execution_count": null,
   "metadata": {},
   "outputs": [],
   "source": []
  }
 ],
 "metadata": {
  "kernelspec": {
   "display_name": "Python 3",
   "language": "python",
   "name": "python3"
  },
  "language_info": {
   "codemirror_mode": {
    "name": "ipython",
    "version": 3
   },
   "file_extension": ".py",
   "mimetype": "text/x-python",
   "name": "python",
   "nbconvert_exporter": "python",
   "pygments_lexer": "ipython3",
   "version": "3.8.5"
  }
 },
 "nbformat": 4,
 "nbformat_minor": 4
}
